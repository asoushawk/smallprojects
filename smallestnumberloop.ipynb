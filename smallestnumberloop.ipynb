{
  "nbformat": 4,
  "nbformat_minor": 0,
  "metadata": {
    "colab": {
      "name": "Untitled2.ipynb",
      "provenance": [],
      "authorship_tag": "ABX9TyN12kuaOuDjsy48zdkug8cW",
      "include_colab_link": true
    },
    "kernelspec": {
      "name": "python3",
      "display_name": "Python 3"
    }
  },
  "cells": [
    {
      "cell_type": "markdown",
      "metadata": {
        "id": "view-in-github",
        "colab_type": "text"
      },
      "source": [
        "<a href=\"https://colab.research.google.com/github/asoushawk/smallprojects/blob/main/smallestnumberloop.ipynb\" target=\"_parent\"><img src=\"https://colab.research.google.com/assets/colab-badge.svg\" alt=\"Open In Colab\"/></a>"
      ]
    },
    {
      "cell_type": "code",
      "metadata": {
        "colab": {
          "base_uri": "https://localhost:8080/"
        },
        "id": "SAaHNr9wfUNH",
        "outputId": "7e6274ca-8e7a-4477-ee52-58c63af7bd62"
      },
      "source": [
        "import time\r\n",
        "number = None\r\n",
        "result = None\r\n",
        "for actualnumber in [244, 100, 44, 30, 12, 10, 2, 1, 30, 2, 10]:\r\n",
        "  print(actualnumber)\r\n",
        "  \r\n",
        "  time.sleep(2)\r\n",
        "  if number is None:\r\n",
        "    number = actualnumber\r\n",
        "  elif result is None:\r\n",
        "    result = actualnumber\r\n",
        "  elif number > actualnumber:\r\n",
        "    number = actualnumber\r\n",
        "    result = actualnumber\r\n",
        "    print(\"This value is the smallest:\", number) \r\n",
        "  print(\"Smallest number so far:\", result)       "
      ],
      "execution_count": null,
      "outputs": [
        {
          "output_type": "stream",
          "text": [
            "244\n",
            "Smallest number so far: None\n",
            "100\n",
            "Smallest number so far: 100\n",
            "44\n",
            "This value is the smallest: 44\n",
            "Smallest number so far: 44\n",
            "30\n",
            "This value is the smallest: 30\n",
            "Smallest number so far: 30\n",
            "12\n",
            "This value is the smallest: 12\n",
            "Smallest number so far: 12\n",
            "10\n",
            "This value is the smallest: 10\n",
            "Smallest number so far: 10\n",
            "2\n",
            "This value is the smallest: 2\n",
            "Smallest number so far: 2\n",
            "1\n",
            "This value is the smallest: 1\n",
            "Smallest number so far: 1\n",
            "30\n",
            "Smallest number so far: 1\n",
            "2\n",
            "Smallest number so far: 1\n",
            "10\n",
            "Smallest number so far: 1\n"
          ],
          "name": "stdout"
        }
      ]
    }
  ]
}